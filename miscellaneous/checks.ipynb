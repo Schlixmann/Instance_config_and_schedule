{
 "cells": [
  {
   "cell_type": "code",
   "execution_count": 1,
   "metadata": {},
   "outputs": [],
   "source": [
    "import json"
   ]
  },
  {
   "cell_type": "code",
   "execution_count": 2,
   "metadata": {},
   "outputs": [
    {
     "name": "stdout",
     "output_type": "stream",
     "text": [
      "81 48 48\n",
      "[['0-0-a3-1-4', '0-0-a3-1-5'], ['0-0-a4-7-15', '0-0-a4-7-16'], ['0-0-a7-20-40', '0-0-a7-20-41'], ['1-1-a3-1-4', '1-1-a3-1-5'], ['1-1-a4-7-15', '1-1-a4-7-16'], ['1-1-a5-11-21', '1-1-a5-11-22'], ['2-2-a3-1-4', '2-2-a3-1-5'], ['2-2-a4-6-12', '2-2-a4-6-13', '2-2-a4-6-14'], ['2-2-a7-20-40', '2-2-a7-20-41'], ['2-2-a8-25-51', '2-2-a8-25-52', '2-2-a8-25-53'], ['2-2-a9-30-60', '2-2-a9-30-61'], ['3-3-a3-1-4', '3-3-a3-1-5'], ['3-3-a4-7-15', '3-3-a4-7-16'], ['3-3-a5-10-19', '3-3-a5-10-20'], ['3-3-a6-17-36', '3-3-a6-17-37'], ['3-3-a9-31-62', '3-3-a9-31-63'], ['4-4-a4-6-12', '4-4-a4-6-13', '4-4-a4-6-14'], ['4-4-a7-20-40', '4-4-a7-20-41'], ['4-4-a8-25-51', '4-4-a8-25-52', '4-4-a8-25-53'], ['4-4-a9-30-60', '4-4-a9-30-61'], ['5-5-a3-1-4', '5-5-a3-1-5'], ['5-5-a4-7-15', '5-5-a4-7-16'], ['5-5-a5-11-21', '5-5-a5-11-22'], ['5-5-a6-16-33', '5-5-a6-16-34', '5-5-a6-16-35'], ['5-5-a7-20-40', '5-5-a7-20-41'], ['5-5-a8-25-51', '5-5-a8-25-52', '5-5-a8-25-53'], ['5-5-a9-30-60', '5-5-a9-30-61']]\n"
     ]
    }
   ],
   "source": [
    "with open(\"testsets/testset1/evaluation/heuristic/1_skill_short.xml.json\") as f:\n",
    "    ra_psts = json.load(f)\n",
    "selected_branches = []\n",
    "tasks = []\n",
    "inserted_jobs = []\n",
    "for ra_pst in ra_psts[\"instances\"]:\n",
    "    for jobId, job in ra_pst[\"jobs\"].items():\n",
    "        if job[\"selected\"]:\n",
    "            selected_branches.append(job[\"branch\"])\n",
    "            branch_jobs = ra_pst[\"branches\"][job[\"branch\"]][\"jobs\"]\n",
    "            if len(branch_jobs) > 1 and branch_jobs not in inserted_jobs:\n",
    "                inserted_jobs.append(branch_jobs)\n",
    "    tasks.extend(ra_pst[\"tasks\"].keys())\n",
    "print(len(selected_branches), len(tasks), len(set(selected_branches)))\n",
    "print(list(inserted_jobs))\n",
    "\n"
   ]
  },
  {
   "cell_type": "code",
   "execution_count": 3,
   "metadata": {},
   "outputs": [
    {
     "name": "stdout",
     "output_type": "stream",
     "text": [
      "79 48 48\n",
      "[['0-0-a3-1-4', '0-0-a3-1-5'], ['0-0-a4-7-15', '0-0-a4-7-16'], ['0-0-a5-10-19', '0-0-a5-10-20'], ['0-0-a7-20-40', '0-0-a7-20-41'], ['0-0-a9-30-60', '0-0-a9-30-61'], ['1-1-a5-11-21', '1-1-a5-11-22'], ['1-1-a6-16-33', '1-1-a6-16-34', '1-1-a6-16-35'], ['1-1-a7-20-40', '1-1-a7-20-41'], ['2-2-a4-6-12', '2-2-a4-6-13', '2-2-a4-6-14'], ['2-2-a6-16-33', '2-2-a6-16-34', '2-2-a6-16-35'], ['2-2-a7-20-40', '2-2-a7-20-41'], ['3-3-a4-7-15', '3-3-a4-7-16'], ['3-3-a7-22-46', '3-3-a7-22-47', '3-3-a7-22-48'], ['3-3-a9-30-60', '3-3-a9-30-61'], ['4-4-a4-7-15', '4-4-a4-7-16'], ['4-4-a5-11-21', '4-4-a5-11-22'], ['4-4-a6-16-33', '4-4-a6-16-34', '4-4-a6-16-35'], ['4-4-a9-30-60', '4-4-a9-30-61'], ['5-5-a3-1-4', '5-5-a3-1-5'], ['5-5-a4-6-12', '5-5-a4-6-13', '5-5-a4-6-14'], ['5-5-a5-11-21', '5-5-a5-11-22'], ['5-5-a7-20-40', '5-5-a7-20-41'], ['5-5-a8-25-51', '5-5-a8-25-52', '5-5-a8-25-53'], ['5-5-a9-31-62', '5-5-a9-31-63']]\n"
     ]
    }
   ],
   "source": [
    "with open(\"testsets/testset1/evaluation/single_instance_online/1_skill_short.xml.json\") as f:\n",
    "    ra_psts = json.load(f)\n",
    "\n",
    "selected_branches = []\n",
    "tasks = []\n",
    "inserted_jobs = []\n",
    "for ra_pst in ra_psts[\"instances\"]:\n",
    "    for jobId, job in ra_pst[\"jobs\"].items():\n",
    "        if job[\"selected\"]:\n",
    "            selected_branches.append(job[\"branch\"])\n",
    "            branch_jobs = ra_pst[\"branches\"][job[\"branch\"]][\"jobs\"]\n",
    "            if len(branch_jobs) > 1 and branch_jobs not in inserted_jobs:\n",
    "                inserted_jobs.append(branch_jobs)\n",
    "    tasks.extend(ra_pst[\"tasks\"].keys())\n",
    "print(len(selected_branches), len(tasks), len(set(selected_branches)))\n",
    "print(list(inserted_jobs))\n",
    "\n"
   ]
  }
 ],
 "metadata": {
  "kernelspec": {
   "display_name": "venv",
   "language": "python",
   "name": "python3"
  },
  "language_info": {
   "codemirror_mode": {
    "name": "ipython",
    "version": 3
   },
   "file_extension": ".py",
   "mimetype": "text/x-python",
   "name": "python",
   "nbconvert_exporter": "python",
   "pygments_lexer": "ipython3",
   "version": "3.12.7"
  }
 },
 "nbformat": 4,
 "nbformat_minor": 2
}
