{
 "cells": [
  {
   "cell_type": "code",
   "execution_count": 14,
   "metadata": {},
   "outputs": [],
   "source": [
    "from pathlib import Path\n",
    "import pandas as pd\n",
    "import json\n"
   ]
  },
  {
   "cell_type": "markdown",
   "metadata": {},
   "source": [
    "## Evaluation of different allocation approaches"
   ]
  },
  {
   "cell_type": "code",
   "execution_count": 15,
   "metadata": {},
   "outputs": [],
   "source": [
    "directory = Path(\"evaluation\")"
   ]
  },
  {
   "cell_type": "code",
   "execution_count": 16,
   "metadata": {},
   "outputs": [
    {
     "data": {
      "text/plain": [
       "[PosixPath('evaluation/paper_process_short_invalids/all_instance_cp.json'),\n",
       " PosixPath('evaluation/paper_process_short_invalids/single_instance_cp_warm.json'),\n",
       " PosixPath('evaluation/paper_process_short_invalids/single_instance_cp.json'),\n",
       " PosixPath('evaluation/paper_process_short_invalids/heuristic.json'),\n",
       " PosixPath('evaluation/paper_process_first_invalids/all_instance_cp.json'),\n",
       " PosixPath('evaluation/paper_process_first_invalids/single_instance_cp_warm.json'),\n",
       " PosixPath('evaluation/paper_process_first_invalids/single_instance_cp.json'),\n",
       " PosixPath('evaluation/paper_process_first_invalids/heuristic.json')]"
      ]
     },
     "execution_count": 16,
     "metadata": {},
     "output_type": "execute_result"
    }
   ],
   "source": [
    "# Get list of all considered files\n",
    "files = []\n",
    "for filepath in directory.rglob(\"*\"):  # Matches all files and directories\n",
    "    if filepath.is_file():\n",
    "        files.append(filepath)\n",
    "files"
   ]
  },
  {
   "cell_type": "code",
   "execution_count": 17,
   "metadata": {},
   "outputs": [],
   "source": [
    "data = {}\n",
    "for file in files:\n",
    "    with open(file) as f:\n",
    "        object = json.load(f)\n",
    "    data[str(file)] = object[\"solution\"]\n"
   ]
  },
  {
   "cell_type": "code",
   "execution_count": 18,
   "metadata": {},
   "outputs": [
    {
     "data": {
      "text/html": [
       "<div>\n",
       "<style scoped>\n",
       "    .dataframe tbody tr th:only-of-type {\n",
       "        vertical-align: middle;\n",
       "    }\n",
       "\n",
       "    .dataframe tbody tr th {\n",
       "        vertical-align: top;\n",
       "    }\n",
       "\n",
       "    .dataframe thead th {\n",
       "        text-align: right;\n",
       "    }\n",
       "</style>\n",
       "<table border=\"1\" class=\"dataframe\">\n",
       "  <thead>\n",
       "    <tr style=\"text-align: right;\">\n",
       "      <th></th>\n",
       "      <th>objective</th>\n",
       "      <th>optimality gap</th>\n",
       "      <th>computing time</th>\n",
       "      <th>solver status</th>\n",
       "      <th>branches</th>\n",
       "      <th>propagations</th>\n",
       "      <th>total interval length</th>\n",
       "    </tr>\n",
       "  </thead>\n",
       "  <tbody>\n",
       "    <tr>\n",
       "      <th>evaluation/paper_process_short_invalids/all_instance_cp.json</th>\n",
       "      <td>40.0</td>\n",
       "      <td>N/A</td>\n",
       "      <td>329.320000</td>\n",
       "      <td>Feasible</td>\n",
       "      <td>3020865.0</td>\n",
       "      <td>N/A</td>\n",
       "      <td>82.0</td>\n",
       "    </tr>\n",
       "    <tr>\n",
       "      <th>evaluation/paper_process_short_invalids/single_instance_cp_warm.json</th>\n",
       "      <td>41.0</td>\n",
       "      <td>N/A</td>\n",
       "      <td>199.740000</td>\n",
       "      <td>Optimal</td>\n",
       "      <td>457974.0</td>\n",
       "      <td>N/A</td>\n",
       "      <td>53.0</td>\n",
       "    </tr>\n",
       "    <tr>\n",
       "      <th>evaluation/paper_process_short_invalids/single_instance_cp.json</th>\n",
       "      <td>41.0</td>\n",
       "      <td>N/A</td>\n",
       "      <td>306.190000</td>\n",
       "      <td>Optimal</td>\n",
       "      <td>525125.0</td>\n",
       "      <td>N/A</td>\n",
       "      <td>53.0</td>\n",
       "    </tr>\n",
       "    <tr>\n",
       "      <th>evaluation/paper_process_short_invalids/heuristic.json</th>\n",
       "      <td>42.0</td>\n",
       "      <td>NaN</td>\n",
       "      <td>7.427491</td>\n",
       "      <td>NaN</td>\n",
       "      <td>NaN</td>\n",
       "      <td>NaN</td>\n",
       "      <td>54.0</td>\n",
       "    </tr>\n",
       "    <tr>\n",
       "      <th>evaluation/paper_process_first_invalids/all_instance_cp.json</th>\n",
       "      <td>130.0</td>\n",
       "      <td>N/A</td>\n",
       "      <td>0.070000</td>\n",
       "      <td>Optimal</td>\n",
       "      <td>70635.0</td>\n",
       "      <td>N/A</td>\n",
       "      <td>292.0</td>\n",
       "    </tr>\n",
       "    <tr>\n",
       "      <th>evaluation/paper_process_first_invalids/single_instance_cp_warm.json</th>\n",
       "      <td>130.0</td>\n",
       "      <td>N/A</td>\n",
       "      <td>0.050000</td>\n",
       "      <td>Optimal</td>\n",
       "      <td>42809.0</td>\n",
       "      <td>N/A</td>\n",
       "      <td>246.0</td>\n",
       "    </tr>\n",
       "    <tr>\n",
       "      <th>evaluation/paper_process_first_invalids/single_instance_cp.json</th>\n",
       "      <td>130.0</td>\n",
       "      <td>N/A</td>\n",
       "      <td>0.070000</td>\n",
       "      <td>Optimal</td>\n",
       "      <td>63128.0</td>\n",
       "      <td>N/A</td>\n",
       "      <td>247.0</td>\n",
       "    </tr>\n",
       "    <tr>\n",
       "      <th>evaluation/paper_process_first_invalids/heuristic.json</th>\n",
       "      <td>130.0</td>\n",
       "      <td>NaN</td>\n",
       "      <td>0.057677</td>\n",
       "      <td>NaN</td>\n",
       "      <td>NaN</td>\n",
       "      <td>NaN</td>\n",
       "      <td>247.0</td>\n",
       "    </tr>\n",
       "  </tbody>\n",
       "</table>\n",
       "</div>"
      ],
      "text/plain": [
       "                                                    objective optimality gap  \\\n",
       "evaluation/paper_process_short_invalids/all_ins...       40.0            N/A   \n",
       "evaluation/paper_process_short_invalids/single_...       41.0            N/A   \n",
       "evaluation/paper_process_short_invalids/single_...       41.0            N/A   \n",
       "evaluation/paper_process_short_invalids/heurist...       42.0            NaN   \n",
       "evaluation/paper_process_first_invalids/all_ins...      130.0            N/A   \n",
       "evaluation/paper_process_first_invalids/single_...      130.0            N/A   \n",
       "evaluation/paper_process_first_invalids/single_...      130.0            N/A   \n",
       "evaluation/paper_process_first_invalids/heurist...      130.0            NaN   \n",
       "\n",
       "                                                    computing time  \\\n",
       "evaluation/paper_process_short_invalids/all_ins...      329.320000   \n",
       "evaluation/paper_process_short_invalids/single_...      199.740000   \n",
       "evaluation/paper_process_short_invalids/single_...      306.190000   \n",
       "evaluation/paper_process_short_invalids/heurist...        7.427491   \n",
       "evaluation/paper_process_first_invalids/all_ins...        0.070000   \n",
       "evaluation/paper_process_first_invalids/single_...        0.050000   \n",
       "evaluation/paper_process_first_invalids/single_...        0.070000   \n",
       "evaluation/paper_process_first_invalids/heurist...        0.057677   \n",
       "\n",
       "                                                   solver status   branches  \\\n",
       "evaluation/paper_process_short_invalids/all_ins...      Feasible  3020865.0   \n",
       "evaluation/paper_process_short_invalids/single_...       Optimal   457974.0   \n",
       "evaluation/paper_process_short_invalids/single_...       Optimal   525125.0   \n",
       "evaluation/paper_process_short_invalids/heurist...           NaN        NaN   \n",
       "evaluation/paper_process_first_invalids/all_ins...       Optimal    70635.0   \n",
       "evaluation/paper_process_first_invalids/single_...       Optimal    42809.0   \n",
       "evaluation/paper_process_first_invalids/single_...       Optimal    63128.0   \n",
       "evaluation/paper_process_first_invalids/heurist...           NaN        NaN   \n",
       "\n",
       "                                                   propagations  \\\n",
       "evaluation/paper_process_short_invalids/all_ins...          N/A   \n",
       "evaluation/paper_process_short_invalids/single_...          N/A   \n",
       "evaluation/paper_process_short_invalids/single_...          N/A   \n",
       "evaluation/paper_process_short_invalids/heurist...          NaN   \n",
       "evaluation/paper_process_first_invalids/all_ins...          N/A   \n",
       "evaluation/paper_process_first_invalids/single_...          N/A   \n",
       "evaluation/paper_process_first_invalids/single_...          N/A   \n",
       "evaluation/paper_process_first_invalids/heurist...          NaN   \n",
       "\n",
       "                                                    total interval length  \n",
       "evaluation/paper_process_short_invalids/all_ins...                   82.0  \n",
       "evaluation/paper_process_short_invalids/single_...                   53.0  \n",
       "evaluation/paper_process_short_invalids/single_...                   53.0  \n",
       "evaluation/paper_process_short_invalids/heurist...                   54.0  \n",
       "evaluation/paper_process_first_invalids/all_ins...                  292.0  \n",
       "evaluation/paper_process_first_invalids/single_...                  246.0  \n",
       "evaluation/paper_process_first_invalids/single_...                  247.0  \n",
       "evaluation/paper_process_first_invalids/heurist...                  247.0  "
      ]
     },
     "execution_count": 18,
     "metadata": {},
     "output_type": "execute_result"
    }
   ],
   "source": [
    "df = pd.DataFrame.from_dict(data, orient=\"index\")\n",
    "df.sort_values(by=\"objective\")"
   ]
  }
 ],
 "metadata": {
  "kernelspec": {
   "display_name": "venv",
   "language": "python",
   "name": "python3"
  },
  "language_info": {
   "codemirror_mode": {
    "name": "ipython",
    "version": 3
   },
   "file_extension": ".py",
   "mimetype": "text/x-python",
   "name": "python",
   "nbconvert_exporter": "python",
   "pygments_lexer": "ipython3",
   "version": "3.12.8"
  }
 },
 "nbformat": 4,
 "nbformat_minor": 2
}
